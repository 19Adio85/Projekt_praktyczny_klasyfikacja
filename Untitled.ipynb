{
 "cells": [
  {
   "cell_type": "code",
   "execution_count": 1,
   "id": "f70e25eb-5940-4e46-b404-a022286a8bde",
   "metadata": {},
   "outputs": [
    {
     "name": "stderr",
     "output_type": "stream",
     "text": [
      "Cloning into 'Projekt_praktyczny_klasyfikacja'...\n"
     ]
    }
   ],
   "source": [
    "!git clone https://github.com/19Adio85/Projekt_praktyczny_klasyfikacja.git"
   ]
  }
 ],
 "metadata": {
  "kernelspec": {
   "display_name": "Python 3 (ipykernel)",
   "language": "python",
   "name": "python3"
  },
  "language_info": {
   "codemirror_mode": {
    "name": "ipython",
    "version": 3
   },
   "file_extension": ".py",
   "mimetype": "text/x-python",
   "name": "python",
   "nbconvert_exporter": "python",
   "pygments_lexer": "ipython3",
   "version": "3.10.4"
  }
 },
 "nbformat": 4,
 "nbformat_minor": 5
}
